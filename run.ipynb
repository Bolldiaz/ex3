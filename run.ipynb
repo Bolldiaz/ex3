{
 "cells": [
  {
   "cell_type": "code",
   "execution_count": 13,
   "metadata": {
    "collapsed": true,
    "pycharm": {
     "name": "#%%\n"
    }
   },
   "outputs": [],
   "source": [
    "from exercise_blanks import *\n",
    "n_epochs = 10"
   ]
  },
  {
   "cell_type": "code",
   "execution_count": 14,
   "outputs": [
    {
     "name": "stdout",
     "output_type": "stream",
     "text": [
      "[==================================================] 100.0% 1662.8/1662.8MB downloaded\n"
     ]
    },
    {
     "ename": "AttributeError",
     "evalue": "The vocab attribute was removed from KeyedVector in Gensim 4.0.0.\nUse KeyedVector's .key_to_index dict, .index_to_key list, and methods .get_vecattr(key, attr) and .set_vecattr(key, attr, new_val) instead.\nSee https://github.com/RaRe-Technologies/gensim/wiki/Migrating-from-Gensim-3.x-to-4",
     "output_type": "error",
     "traceback": [
      "\u001B[1;31m---------------------------------------------------------------------------\u001B[0m",
      "\u001B[1;31mAttributeError\u001B[0m                            Traceback (most recent call last)",
      "Cell \u001B[1;32mIn[14], line 1\u001B[0m\n\u001B[1;32m----> 1\u001B[0m data_manager \u001B[38;5;241m=\u001B[39m \u001B[43mDataManager\u001B[49m\u001B[43m(\u001B[49m\u001B[43mW2V_AVERAGE\u001B[49m\u001B[43m,\u001B[49m\u001B[43m \u001B[49m\u001B[43mbatch_size\u001B[49m\u001B[38;5;241;43m=\u001B[39;49m\u001B[43mBATCH_SIZE\u001B[49m\u001B[43m,\u001B[49m\u001B[43m \u001B[49m\u001B[43membedding_dim\u001B[49m\u001B[38;5;241;43m=\u001B[39;49m\u001B[43mW2V_EMBEDDING_DIM\u001B[49m\u001B[43m)\u001B[49m\n\u001B[0;32m      2\u001B[0m model \u001B[38;5;241m=\u001B[39m LogLinear(embedding_dim\u001B[38;5;241m=\u001B[39mW2V_EMBEDDING_DIM)\n\u001B[0;32m      3\u001B[0m criterion \u001B[38;5;241m=\u001B[39m nn\u001B[38;5;241m.\u001B[39mBCEWithLogitsLoss()\n",
      "File \u001B[1;32m~\\OneDrive\\huji\\2023A\\NLP\\ex3\\exercise_blanks.py:252\u001B[0m, in \u001B[0;36mDataManager.__init__\u001B[1;34m(self, data_type, use_sub_phrases, dataset_path, batch_size, embedding_dim)\u001B[0m\n\u001B[0;32m    250\u001B[0m     \u001B[38;5;28mself\u001B[39m\u001B[38;5;241m.\u001B[39msent_func \u001B[38;5;241m=\u001B[39m get_w2v_average\n\u001B[0;32m    251\u001B[0m     words_list \u001B[38;5;241m=\u001B[39m \u001B[38;5;28mlist\u001B[39m(\u001B[38;5;28mself\u001B[39m\u001B[38;5;241m.\u001B[39msentiment_dataset\u001B[38;5;241m.\u001B[39mget_word_counts()\u001B[38;5;241m.\u001B[39mkeys())\n\u001B[1;32m--> 252\u001B[0m     \u001B[38;5;28mself\u001B[39m\u001B[38;5;241m.\u001B[39msent_func_kwargs \u001B[38;5;241m=\u001B[39m {\u001B[38;5;124m\"\u001B[39m\u001B[38;5;124mword_to_vec\u001B[39m\u001B[38;5;124m\"\u001B[39m: \u001B[43mcreate_or_load_slim_w2v\u001B[49m\u001B[43m(\u001B[49m\u001B[43mwords_list\u001B[49m\u001B[43m)\u001B[49m,\n\u001B[0;32m    253\u001B[0m                              \u001B[38;5;124m\"\u001B[39m\u001B[38;5;124membedding_dim\u001B[39m\u001B[38;5;124m\"\u001B[39m: embedding_dim\n\u001B[0;32m    254\u001B[0m                              }\n\u001B[0;32m    255\u001B[0m \u001B[38;5;28;01melse\u001B[39;00m:\n\u001B[0;32m    256\u001B[0m     \u001B[38;5;28;01mraise\u001B[39;00m \u001B[38;5;167;01mValueError\u001B[39;00m(\u001B[38;5;124m\"\u001B[39m\u001B[38;5;124minvalid data_type: \u001B[39m\u001B[38;5;132;01m{}\u001B[39;00m\u001B[38;5;124m\"\u001B[39m\u001B[38;5;241m.\u001B[39mformat(data_type))\n",
      "File \u001B[1;32m~\\OneDrive\\huji\\2023A\\NLP\\ex3\\exercise_blanks.py:107\u001B[0m, in \u001B[0;36mcreate_or_load_slim_w2v\u001B[1;34m(words_list, cache_w2v)\u001B[0m\n\u001B[0;32m    105\u001B[0m w2v_path \u001B[38;5;241m=\u001B[39m \u001B[38;5;124m\"\u001B[39m\u001B[38;5;124mw2v_dict.pkl\u001B[39m\u001B[38;5;124m\"\u001B[39m\n\u001B[0;32m    106\u001B[0m \u001B[38;5;28;01mif\u001B[39;00m \u001B[38;5;129;01mnot\u001B[39;00m os\u001B[38;5;241m.\u001B[39mpath\u001B[38;5;241m.\u001B[39mexists(w2v_path):\n\u001B[1;32m--> 107\u001B[0m     full_w2v \u001B[38;5;241m=\u001B[39m \u001B[43mload_word2vec\u001B[49m\u001B[43m(\u001B[49m\u001B[43m)\u001B[49m\n\u001B[0;32m    108\u001B[0m     w2v_emb_dict \u001B[38;5;241m=\u001B[39m {k: full_w2v[k] \u001B[38;5;28;01mfor\u001B[39;00m k \u001B[38;5;129;01min\u001B[39;00m words_list \u001B[38;5;28;01mif\u001B[39;00m k \u001B[38;5;129;01min\u001B[39;00m full_w2v}\n\u001B[0;32m    109\u001B[0m     \u001B[38;5;28;01mif\u001B[39;00m cache_w2v:\n",
      "File \u001B[1;32m~\\OneDrive\\huji\\2023A\\NLP\\ex3\\exercise_blanks.py:92\u001B[0m, in \u001B[0;36mload_word2vec\u001B[1;34m()\u001B[0m\n\u001B[0;32m     90\u001B[0m \u001B[38;5;28;01mimport\u001B[39;00m \u001B[38;5;21;01mgensim\u001B[39;00m\u001B[38;5;21;01m.\u001B[39;00m\u001B[38;5;21;01mdownloader\u001B[39;00m \u001B[38;5;28;01mas\u001B[39;00m \u001B[38;5;21;01mapi\u001B[39;00m\n\u001B[0;32m     91\u001B[0m wv_from_bin \u001B[38;5;241m=\u001B[39m api\u001B[38;5;241m.\u001B[39mload(\u001B[38;5;124m\"\u001B[39m\u001B[38;5;124mword2vec-google-news-300\u001B[39m\u001B[38;5;124m\"\u001B[39m)\n\u001B[1;32m---> 92\u001B[0m vocab \u001B[38;5;241m=\u001B[39m \u001B[38;5;28mlist\u001B[39m(\u001B[43mwv_from_bin\u001B[49m\u001B[38;5;241;43m.\u001B[39;49m\u001B[43mvocab\u001B[49m\u001B[38;5;241m.\u001B[39mkeys())\n\u001B[0;32m     93\u001B[0m \u001B[38;5;28mprint\u001B[39m(wv_from_bin\u001B[38;5;241m.\u001B[39mvocab[vocab[\u001B[38;5;241m0\u001B[39m]])\n\u001B[0;32m     94\u001B[0m \u001B[38;5;28mprint\u001B[39m(\u001B[38;5;124m\"\u001B[39m\u001B[38;5;124mLoaded vocab size \u001B[39m\u001B[38;5;132;01m%i\u001B[39;00m\u001B[38;5;124m\"\u001B[39m \u001B[38;5;241m%\u001B[39m \u001B[38;5;28mlen\u001B[39m(vocab))\n",
      "File \u001B[1;32m~\\OneDrive\\huji\\2023A\\NLP\\ex3\\venv\\lib\\site-packages\\gensim\\models\\keyedvectors.py:735\u001B[0m, in \u001B[0;36mKeyedVectors.vocab\u001B[1;34m(self)\u001B[0m\n\u001B[0;32m    733\u001B[0m \u001B[38;5;129m@property\u001B[39m\n\u001B[0;32m    734\u001B[0m \u001B[38;5;28;01mdef\u001B[39;00m \u001B[38;5;21mvocab\u001B[39m(\u001B[38;5;28mself\u001B[39m):\n\u001B[1;32m--> 735\u001B[0m     \u001B[38;5;28;01mraise\u001B[39;00m \u001B[38;5;167;01mAttributeError\u001B[39;00m(\n\u001B[0;32m    736\u001B[0m         \u001B[38;5;124m\"\u001B[39m\u001B[38;5;124mThe vocab attribute was removed from KeyedVector in Gensim 4.0.0.\u001B[39m\u001B[38;5;130;01m\\n\u001B[39;00m\u001B[38;5;124m\"\u001B[39m\n\u001B[0;32m    737\u001B[0m         \u001B[38;5;124m\"\u001B[39m\u001B[38;5;124mUse KeyedVector\u001B[39m\u001B[38;5;124m'\u001B[39m\u001B[38;5;124ms .key_to_index dict, .index_to_key list, and methods \u001B[39m\u001B[38;5;124m\"\u001B[39m\n\u001B[0;32m    738\u001B[0m         \u001B[38;5;124m\"\u001B[39m\u001B[38;5;124m.get_vecattr(key, attr) and .set_vecattr(key, attr, new_val) instead.\u001B[39m\u001B[38;5;130;01m\\n\u001B[39;00m\u001B[38;5;124m\"\u001B[39m\n\u001B[0;32m    739\u001B[0m         \u001B[38;5;124m\"\u001B[39m\u001B[38;5;124mSee https://github.com/RaRe-Technologies/gensim/wiki/Migrating-from-Gensim-3.x-to-4\u001B[39m\u001B[38;5;124m\"\u001B[39m\n\u001B[0;32m    740\u001B[0m     )\n",
      "\u001B[1;31mAttributeError\u001B[0m: The vocab attribute was removed from KeyedVector in Gensim 4.0.0.\nUse KeyedVector's .key_to_index dict, .index_to_key list, and methods .get_vecattr(key, attr) and .set_vecattr(key, attr, new_val) instead.\nSee https://github.com/RaRe-Technologies/gensim/wiki/Migrating-from-Gensim-3.x-to-4"
     ]
    }
   ],
   "source": [
    "data_manager = DataManager(W2V_AVERAGE, batch_size=BATCH_SIZE, embedding_dim=W2V_EMBEDDING_DIM)\n",
    "model = LogLinear(embedding_dim=W2V_EMBEDDING_DIM)\n",
    "criterion = nn.BCEWithLogitsLoss()"
   ],
   "metadata": {
    "collapsed": false,
    "pycharm": {
     "name": "#%%\n"
    }
   }
  },
  {
   "cell_type": "code",
   "execution_count": null,
   "outputs": [],
   "source": [
    "# training\n",
    "performances = train_model(model,\n",
    "                           data_manager,\n",
    "                           criterion,\n",
    "                           n_epochs,\n",
    "                           LEARNING_RATE,\n",
    "                           WEIGHT_DECAY)"
   ],
   "metadata": {
    "collapsed": false,
    "pycharm": {
     "name": "#%%\n"
    }
   }
  },
  {
   "cell_type": "code",
   "execution_count": null,
   "outputs": [],
   "source": [
    "epochs = range(n_epochs)\n",
    "for metric_type, dataset_type_dict in performances.items():\n",
    "    for dataset_type, values in dataset_type_dict.items():\n",
    "        plt.plot(epochs, values, label=dataset_type)\n",
    "    plt.title(f'{metric_type} over training/validation')\n",
    "    plt.xlabel('Epochs')\n",
    "    plt.ylabel(metric_type)\n",
    "    plt.legend()\n",
    "    plt.show()"
   ],
   "metadata": {
    "collapsed": false,
    "pycharm": {
     "name": "#%%\n"
    }
   }
  },
  {
   "cell_type": "code",
   "execution_count": null,
   "outputs": [],
   "source": [
    " # predictions for the whole data\n",
    "test_iterator = data_manager.get_torch_iterator(TEST)\n",
    "test_predictions, test_true, test_loss, test_accuracy = get_prediction_for_data(model, test_iterator, criterion)\n",
    "print(f\"Test loss: {np.round(test_loss, 3)} accuracy: {np.round(test_accuracy, 3)} over entire dataset\")"
   ],
   "metadata": {
    "collapsed": false,
    "pycharm": {
     "name": "#%%\n"
    }
   }
  },
  {
   "cell_type": "code",
   "execution_count": null,
   "outputs": [],
   "source": [
    "# test accuracy over negated polarity examples\n",
    "indices = data_loader.get_negated_polarity_examples(data_manager.sentences[TEST])\n",
    "accuracy = binary_accuracy(preds=test_predictions[indices], y=test_true[indices])\n",
    "print(f\"Test accuracy: {np.round(accuracy, 3)} over negated polarity examples\")\n",
    "\n",
    "# test accuracy over rare_words examples\n",
    "indices = data_loader.get_rare_words_examples(data_manager.sentences[TEST], data_manager.sentiment_dataset)\n",
    "accuracy = binary_accuracy(preds=test_predictions[indices], y=test_true[indices])\n",
    "print(f\"Test accuracy: {np.round(accuracy, 3)} over rare words examples\")"
   ],
   "metadata": {
    "collapsed": false,
    "pycharm": {
     "name": "#%%\n"
    }
   }
  }
 ],
 "metadata": {
  "kernelspec": {
   "display_name": "Python 3",
   "language": "python",
   "name": "python3"
  },
  "language_info": {
   "codemirror_mode": {
    "name": "ipython",
    "version": 2
   },
   "file_extension": ".py",
   "mimetype": "text/x-python",
   "name": "python",
   "nbconvert_exporter": "python",
   "pygments_lexer": "ipython2",
   "version": "2.7.6"
  }
 },
 "nbformat": 4,
 "nbformat_minor": 0
}