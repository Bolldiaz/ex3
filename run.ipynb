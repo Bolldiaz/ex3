{
 "cells": [
  {
   "cell_type": "code",
   "execution_count": null,
   "metadata": {
    "collapsed": true,
    "pycharm": {
     "name": "#%%\n"
    }
   },
   "outputs": [],
   "source": [
    "from exercise_blanks import *\n",
    "n_epochs = 10\n",
    "criterion = nn.BCEWithLogitsLoss()\n",
    "model = LSTM(embedding_dim=W2V_EMBEDDING_DIM, hidden_dim=100, n_layers=1, dropout=.5)\n",
    "print(\"finished\")"
   ]
  },
  {
   "cell_type": "code",
   "execution_count": null,
   "outputs": [],
   "source": [
    "data_manager = None\n",
    "# with open('data_manager.obj', 'wb') as fp:\n",
    "     # data_manager = DataManager(W2V_SEQUENCE, batch_size=BATCH_SIZE, embedding_dim=W2V_EMBEDDING_DIM)\n",
    "     # pickle.dump(data_manager, fp)\n",
    "with open('data_manager.obj', 'rb') as fp:\n",
    "    data_manager = pickle.load(fp)\n"
   ],
   "metadata": {
    "collapsed": false,
    "pycharm": {
     "name": "#%%\n"
    }
   }
  },
  {
   "cell_type": "code",
   "execution_count": null,
   "outputs": [],
   "source": [
    "# training\n",
    "performances = train_eval_model(model,\n",
    "                               data_manager,\n",
    "                               criterion,\n",
    "                               n_epochs=4,\n",
    "                               lr=0.001,\n",
    "                               weight_decay=0.0001\n",
    "                               )"
   ],
   "metadata": {
    "collapsed": false,
    "pycharm": {
     "name": "#%%\n"
    }
   }
  },
  {
   "cell_type": "code",
   "execution_count": null,
   "outputs": [],
   "source": [
    "epochs = range(n_epochs)\n",
    "for metric_type, dataset_type_dict in performances.items():\n",
    "    for dataset_type, values in dataset_type_dict.items():\n",
    "        plt.plot(epochs, values, label=dataset_type)\n",
    "    plt.title(f'{metric_type} over training/validation')\n",
    "    plt.xlabel('Epochs')\n",
    "    plt.ylabel(metric_type)\n",
    "    plt.legend()\n",
    "    plt.show()"
   ],
   "metadata": {
    "collapsed": false,
    "pycharm": {
     "name": "#%%\n"
    }
   }
  },
  {
   "cell_type": "code",
   "execution_count": null,
   "outputs": [],
   "source": [
    " # predictions for the whole data\n",
    "test_iterator = data_manager.get_torch_iterator(TEST)\n",
    "test_predictions, test_true, test_loss, test_accuracy = get_prediction_for_data(model, test_iterator, criterion)\n",
    "print(f\"Test loss: {np.round(test_loss, 3)} accuracy: {np.round(test_accuracy, 3)} over entire dataset\")"
   ],
   "metadata": {
    "collapsed": false,
    "pycharm": {
     "name": "#%%\n"
    }
   }
  },
  {
   "cell_type": "code",
   "execution_count": null,
   "outputs": [],
   "source": [
    "# test accuracy over negated polarity examples\n",
    "indices = data_loader.get_negated_polarity_examples(data_manager.sentences[TEST])\n",
    "accuracy = binary_accuracy(preds=test_predictions[indices], y=test_true[indices])\n",
    "print(f\"Test accuracy: {np.round(accuracy, 3)} over negated polarity examples\")\n",
    "\n",
    "# test accuracy over rare_words examples\n",
    "indices = data_loader.get_rare_words_examples(data_manager.sentences[TEST], data_manager.sentiment_dataset)\n",
    "accuracy = binary_accuracy(preds=test_predictions[indices], y=test_true[indices])\n",
    "print(f\"Test accuracy: {np.round(accuracy, 3)} over rare words examples\")"
   ],
   "metadata": {
    "collapsed": false,
    "pycharm": {
     "name": "#%%\n"
    }
   }
  }
 ],
 "metadata": {
  "kernelspec": {
   "display_name": "Python 3",
   "language": "python",
   "name": "python3"
  },
  "language_info": {
   "codemirror_mode": {
    "name": "ipython",
    "version": 2
   },
   "file_extension": ".py",
   "mimetype": "text/x-python",
   "name": "python",
   "nbconvert_exporter": "python",
   "pygments_lexer": "ipython2",
   "version": "2.7.6"
  }
 },
 "nbformat": 4,
 "nbformat_minor": 0
}